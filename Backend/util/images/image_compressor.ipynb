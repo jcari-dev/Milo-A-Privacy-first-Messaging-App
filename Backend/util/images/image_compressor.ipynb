{
 "cells": [
  {
   "cell_type": "code",
   "execution_count": 3,
   "metadata": {},
   "outputs": [
    {
     "name": "stdout",
     "output_type": "stream",
     "text": [
      "Compressed bg-sign-in.png: 2.12 MB -> 0.24 MB\n",
      "Compressed bg-sign-up.png: 1.50 MB -> 0.15 MB\n",
      "Compressed bg-verified.png: 1.42 MB -> 0.17 MB\n",
      "Total size before: 5.05 MB\n",
      "Total size after: 0.56 MB\n",
      "Total size reduced: 4.48 MB\n"
     ]
    }
   ],
   "source": [
    "import os\n",
    "from PIL import Image\n",
    "\n",
    "if not os.path.exists('compressed'):\n",
    "    os.makedirs('compressed')\n",
    "\n",
    "total_before = 0\n",
    "total_after = 0\n",
    "\n",
    "for filename in os.listdir('to_compress'):\n",
    "    if filename.endswith('.png'):\n",
    "        \n",
    "        before_size = os.path.getsize(os.path.join('to_compress', filename)) / (1024 * 1024)\n",
    "        total_before += before_size\n",
    "\n",
    "        img = Image.open(os.path.join('to_compress', filename))\n",
    "        \n",
    "        # Convert to RGB to remove transparency\n",
    "        img = img.convert(\"RGB\")\n",
    "\n",
    "        new_path = os.path.join('compressed', filename.replace('.png', '.webp'))\n",
    "        img.save(new_path, \"WEBP\", quality=85)\n",
    "\n",
    "        after_size = os.path.getsize(new_path) / (1024 * 1024)\n",
    "        total_after += after_size\n",
    "\n",
    "        print(f\"Compressed {filename}: {before_size:.2f} MB -> {after_size:.2f} MB\")\n",
    "\n",
    "print(f\"Total size before: {total_before:.2f} MB\")\n",
    "print(f\"Total size after: {total_after:.2f} MB\")\n",
    "print(f\"Total size reduced: {total_before - total_after:.2f} MB\")\n"
   ]
  }
 ],
 "metadata": {
  "kernelspec": {
   "display_name": "Python 3",
   "language": "python",
   "name": "python3"
  },
  "language_info": {
   "codemirror_mode": {
    "name": "ipython",
    "version": 3
   },
   "file_extension": ".py",
   "mimetype": "text/x-python",
   "name": "python",
   "nbconvert_exporter": "python",
   "pygments_lexer": "ipython3",
   "version": "3.9.2"
  }
 },
 "nbformat": 4,
 "nbformat_minor": 2
}
